{
 "cells": [
  {
   "cell_type": "code",
   "execution_count": 14,
   "id": "172cae71",
   "metadata": {},
   "outputs": [],
   "source": [
    "import pathlib\n",
    "\n",
    "BASE_DIR = pathlib.Path().resolve().parent\n",
    "DATASET_DIR = BASE_DIR / 'datasets'\n",
    "ZIPS_DIR = DATASET_DIR / 'zips'\n",
    "ZIPS_DIR.mkdir(exist_ok=True, parents=True)\n",
    "\n",
    "SPAM_SMS_ZIP_PATH = ZIPS_DIR / \"sms-spam-dataset.zip\"\n",
    "SPAM_YOUTUBE_ZIP_PATH = ZIPS_DIR / \"youtube-spam-dataset.zip\""
   ]
  },
  {
   "cell_type": "code",
   "execution_count": 15,
   "id": "4aa6bc17",
   "metadata": {},
   "outputs": [],
   "source": [
    "SMS_SPAM_ZIP = \"https://archive.ics.uci.edu/ml/machine-learning-databases/00228/smsspamcollection.zip\"\n",
    "YOUTUBE_SPAM_ZIP =\"https://archive.ics.uci.edu/ml/machine-learning-databases/00380/YouTube-Spam-Collection-v1.zip\""
   ]
  },
  {
   "cell_type": "code",
   "execution_count": 16,
   "id": "09988f0e",
   "metadata": {},
   "outputs": [],
   "source": [
    "# Download the SMS_SPAM_ZIP file"
   ]
  },
  {
   "cell_type": "code",
   "execution_count": 20,
   "id": "2a3d6e52",
   "metadata": {},
   "outputs": [
    {
     "name": "stdout",
     "output_type": "stream",
     "text": [
      "  % Total    % Received % Xferd  Average Speed   Time    Time     Time  Current\n",
      "                                 Dload  Upload   Total   Spent    Left  Speed\n",
      "100  198k  100  198k    0     0   455k      0 --:--:-- --:--:-- --:--:--  456k\n",
      "  % Total    % Received % Xferd  Average Speed   Time    Time     Time  Current\n",
      "                                 Dload  Upload   Total   Spent    Left  Speed\n",
      "100  159k  100  159k    0     0   368k      0 --:--:-- --:--:-- --:--:--  368k\n"
     ]
    }
   ],
   "source": [
    "!curl $SMS_SPAM_ZIP -o $SPAM_SMS_ZIP_PATH\n",
    "!curl $YOUTUBE_SPAM_ZIP -o $SPAM_YOUTUBE_ZIP_PATH"
   ]
  },
  {
   "cell_type": "code",
   "execution_count": 19,
   "id": "a9d07ea7",
   "metadata": {},
   "outputs": [],
   "source": [
    "SPAM_CLASSIFIER_DIR = DATASET_DIR / \"spam-classifier\"\n",
    "SMS_SPAM_DIR = SPAM_CLASSIFIER_DIR / \"spam-sms\"\n",
    "YOUTUBE_SPAM_DIR = SPAM_CLASSIFIER_DIR / \"youtube-spam\"\n",
    "\n",
    "SMS_SPAM_DIR.mkdir(exist_ok=True, parents=True)\n",
    "YOUTUBE_SPAM_DIR.mkdir(exist_ok=True, parents=True)"
   ]
  },
  {
   "cell_type": "code",
   "execution_count": 23,
   "id": "bb0e76f0",
   "metadata": {},
   "outputs": [
    {
     "name": "stdout",
     "output_type": "stream",
     "text": [
      "Archive:  /home/onwunalu/codelib/python/tutorials/computer-vision/ai-api/datasets/zips/sms-spam-dataset.zip\n",
      "  inflating: /home/onwunalu/codelib/python/tutorials/computer-vision/ai-api/datasets/spam-classifier/spam-sms/SMSSpamCollection  \n",
      "  inflating: /home/onwunalu/codelib/python/tutorials/computer-vision/ai-api/datasets/spam-classifier/spam-sms/readme  \n",
      "Archive:  /home/onwunalu/codelib/python/tutorials/computer-vision/ai-api/datasets/zips/youtube-spam-dataset.zip\n",
      "  inflating: /home/onwunalu/codelib/python/tutorials/computer-vision/ai-api/datasets/spam-classifier/youtube-spam/Youtube01-Psy.csv  \n",
      "  inflating: /home/onwunalu/codelib/python/tutorials/computer-vision/ai-api/datasets/spam-classifier/youtube-spam/__MACOSX/._Youtube01-Psy.csv  \n",
      "  inflating: /home/onwunalu/codelib/python/tutorials/computer-vision/ai-api/datasets/spam-classifier/youtube-spam/Youtube02-KatyPerry.csv  \n",
      "  inflating: /home/onwunalu/codelib/python/tutorials/computer-vision/ai-api/datasets/spam-classifier/youtube-spam/__MACOSX/._Youtube02-KatyPerry.csv  \n",
      "  inflating: /home/onwunalu/codelib/python/tutorials/computer-vision/ai-api/datasets/spam-classifier/youtube-spam/Youtube03-LMFAO.csv  \n",
      "  inflating: /home/onwunalu/codelib/python/tutorials/computer-vision/ai-api/datasets/spam-classifier/youtube-spam/__MACOSX/._Youtube03-LMFAO.csv  \n",
      "  inflating: /home/onwunalu/codelib/python/tutorials/computer-vision/ai-api/datasets/spam-classifier/youtube-spam/Youtube04-Eminem.csv  \n",
      "  inflating: /home/onwunalu/codelib/python/tutorials/computer-vision/ai-api/datasets/spam-classifier/youtube-spam/__MACOSX/._Youtube04-Eminem.csv  \n",
      "  inflating: /home/onwunalu/codelib/python/tutorials/computer-vision/ai-api/datasets/spam-classifier/youtube-spam/Youtube05-Shakira.csv  \n",
      "  inflating: /home/onwunalu/codelib/python/tutorials/computer-vision/ai-api/datasets/spam-classifier/youtube-spam/__MACOSX/._Youtube05-Shakira.csv  \n"
     ]
    }
   ],
   "source": [
    "!unzip -o $SPAM_SMS_ZIP_PATH -d $SMS_SPAM_DIR\n",
    "!unzip -o $SPAM_YOUTUBE_ZIP_PATH -d $YOUTUBE_SPAM_DIR"
   ]
  },
  {
   "cell_type": "code",
   "execution_count": null,
   "id": "bb78c0a3",
   "metadata": {},
   "outputs": [],
   "source": []
  }
 ],
 "metadata": {
  "kernelspec": {
   "display_name": "Python 3",
   "language": "python",
   "name": "python3"
  },
  "language_info": {
   "codemirror_mode": {
    "name": "ipython",
    "version": 3
   },
   "file_extension": ".py",
   "mimetype": "text/x-python",
   "name": "python",
   "nbconvert_exporter": "python",
   "pygments_lexer": "ipython3",
   "version": "3.9.7"
  }
 },
 "nbformat": 4,
 "nbformat_minor": 5
}
